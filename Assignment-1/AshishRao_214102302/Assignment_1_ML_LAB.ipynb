{
 "cells": [
  {
   "cell_type": "markdown",
   "metadata": {},
   "source": [
    "# Question 1"
   ]
  },
  {
   "cell_type": "code",
   "execution_count": 5,
   "metadata": {},
   "outputs": [
    {
     "name": "stdout",
     "output_type": "stream",
     "text": [
      "hello world!\n"
     ]
    }
   ],
   "source": [
    "print(\"hello world!\")"
   ]
  },
  {
   "cell_type": "markdown",
   "metadata": {},
   "source": [
    "# Question 2"
   ]
  },
  {
   "cell_type": "code",
   "execution_count": 1,
   "metadata": {},
   "outputs": [
    {
     "name": "stdout",
     "output_type": "stream",
     "text": [
      "Enter first number :1\n",
      "Enter second number :2\n",
      "addition is : 3 \n",
      "subtraction is  -1 \n",
      "multipication is :  2 \n",
      "divison is : 0.5 \n",
      " % is 1\n"
     ]
    }
   ],
   "source": [
    "a = int(input(\"Enter first number :\"))\n",
    "b = int(input(\"Enter second number :\"))\n",
    "c = a+b\n",
    "d = a-b\n",
    "e =a*b\n",
    "f =a/b\n",
    "g=a%b\n",
    "print(\"addition is :\",c,\"\\nsubtraction is \" ,d ,\"\\nmultipication is : \",e,\"\\ndivison is :\",f,\"\\n % is\",g,)"
   ]
  },
  {
   "cell_type": "markdown",
   "metadata": {},
   "source": [
    "# Question 3"
   ]
  },
  {
   "cell_type": "code",
   "execution_count": 3,
   "metadata": {},
   "outputs": [
    {
     "name": "stdout",
     "output_type": "stream",
     "text": [
      "5\n",
      "120\n"
     ]
    }
   ],
   "source": [
    "num =int(input())\n",
    "def fact(a):\n",
    "    prod = 1\n",
    "    while(a!=1):\n",
    "        prod = prod*a\n",
    "        a = a-1\n",
    "    return prod\n",
    "print(fact(num))"
   ]
  },
  {
   "cell_type": "markdown",
   "metadata": {},
   "source": [
    "# Question 4"
   ]
  },
  {
   "cell_type": "code",
   "execution_count": 84,
   "metadata": {},
   "outputs": [
    {
     "name": "stdout",
     "output_type": "stream",
     "text": [
      "enter first no :1\n",
      "enter another no :10\n",
      "prime no between  1 and 10 are :\n",
      "1  not a prime no\n",
      "2 is a prime no\n",
      "3 is a prime no\n",
      "4 not prime no\n",
      "5 is a prime no\n",
      "6 not prime no\n",
      "7 is a prime no\n",
      "8 not prime no\n",
      "9 not prime no\n"
     ]
    }
   ],
   "source": [
    "a = int(input(\"enter first no :\"))\n",
    "b = int(input(\"enter another no :\"))\n",
    "print(\"prime no between \",a,\"and\",b,\"are :\")\n",
    "for no in range(a,b):\n",
    "    if no >1:\n",
    "        for i in range(2,no):\n",
    "            if (no % i) == 0:\n",
    "                print(no, \"not prime no\")\n",
    "                break\n",
    "        else :\n",
    "            print(no,\"is a prime no\")\n",
    "    else:\n",
    "        print(no,\" not a prime no\")"
   ]
  },
  {
   "cell_type": "markdown",
   "metadata": {},
   "source": [
    "# Question 5"
   ]
  },
  {
   "cell_type": "code",
   "execution_count": 1,
   "metadata": {},
   "outputs": [
    {
     "name": "stdout",
     "output_type": "stream",
     "text": [
      "enter a interger no :4\n",
      "enter a another no :5\n",
      "LCM of two no. is : 20\n"
     ]
    }
   ],
   "source": [
    "a=int(input(\"enter a interger no :\"))\n",
    "b = int(input(\"enter a another no :\"))\n",
    "def lcm(a,b):\n",
    "    if(a>b):\n",
    "        maximum = a\n",
    "    else:\n",
    "        maximum = b\n",
    "    while(True):\n",
    "        if(maximum%a==0 and maximum%b==0):\n",
    "           return maximum\n",
    "        else:\n",
    "            maximum += 1\n",
    "    return maximum\n",
    "print(\"LCM of two no. is :\", lcm(a,b)) "
   ]
  },
  {
   "cell_type": "code",
   "execution_count": null,
   "metadata": {},
   "outputs": [],
   "source": []
  }
 ],
 "metadata": {
  "kernelspec": {
   "display_name": "Python 3",
   "language": "python",
   "name": "python3"
  },
  "language_info": {
   "codemirror_mode": {
    "name": "ipython",
    "version": 3
   },
   "file_extension": ".py",
   "mimetype": "text/x-python",
   "name": "python",
   "nbconvert_exporter": "python",
   "pygments_lexer": "ipython3",
   "version": "3.8.8"
  },
  "toc": {
   "base_numbering": 1,
   "nav_menu": {},
   "number_sections": true,
   "sideBar": true,
   "skip_h1_title": false,
   "title_cell": "Table of Contents",
   "title_sidebar": "Contents",
   "toc_cell": false,
   "toc_position": {},
   "toc_section_display": true,
   "toc_window_display": false
  }
 },
 "nbformat": 4,
 "nbformat_minor": 2
}
